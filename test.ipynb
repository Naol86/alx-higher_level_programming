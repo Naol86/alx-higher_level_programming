{
 "cells": [
  {
   "cell_type": "code",
   "execution_count": 24,
   "metadata": {},
   "outputs": [
    {
     "name": "stdout",
     "output_type": "stream",
     "text": [
      "2\n"
     ]
    }
   ],
   "source": [
    "n= -112\n",
    "print ( abs(n) % 10)"
   ]
  },
  {
   "cell_type": "code",
   "execution_count": 6,
   "metadata": {},
   "outputs": [
    {
     "name": "stdout",
     "output_type": "stream",
     "text": [
      "11 naol\n"
     ]
    }
   ],
   "source": [
    "print(\"%.2u naol\" % 11)"
   ]
  },
  {
   "cell_type": "code",
   "execution_count": 15,
   "metadata": {},
   "outputs": [
    {
     "name": "stdout",
     "output_type": "stream",
     "text": [
      "100\n"
     ]
    }
   ],
   "source": [
    "last = (10 ** (len(str(abs(n))) - 1 ) )\n",
    "print(last)"
   ]
  },
  {
   "cell_type": "code",
   "execution_count": 2,
   "metadata": {},
   "outputs": [
    {
     "data": {
      "text/plain": [
       "'0xc'"
      ]
     },
     "execution_count": 2,
     "metadata": {},
     "output_type": "execute_result"
    }
   ],
   "source": [
    "hex(12)"
   ]
  },
  {
   "cell_type": "code",
   "execution_count": null,
   "metadata": {},
   "outputs": [],
   "source": [
    "def magic_calculation(a, b, c):\n",
    "\tif a < b:\n",
    "\t\treturn c\n",
    "\telif c > b:\n",
    "\t\treturn a + b\n",
    "\treturn a * b - c"
   ]
  },
  {
   "cell_type": "code",
   "execution_count": 1,
   "metadata": {},
   "outputs": [
    {
     "name": "stdout",
     "output_type": "stream",
     "text": [
      "as\n"
     ]
    }
   ],
   "source": [
    "print(\"as\")"
   ]
  },
  {
   "cell_type": "code",
   "execution_count": 15,
   "metadata": {},
   "outputs": [
    {
     "name": "stdout",
     "output_type": "stream",
     "text": [
      "[1, 2, 3]\n"
     ]
    }
   ],
   "source": [
    "def assign_value(n, v):\n",
    "    n = v\n",
    "\n",
    "l1 = [1, 2, 3]\n",
    "l2 = [4, 5, 6]\n",
    "assign_value(l1, l2)\n",
    "print(l1)"
   ]
  },
  {
   "cell_type": "code",
   "execution_count": 39,
   "metadata": {},
   "outputs": [
    {
     "name": "stdout",
     "output_type": "stream",
     "text": [
      "0 4 [(0, 0), (0, 1), (0, 2), (0, 3), (1, 0), (1, 1), (1, 2), (1, 3), (2, 0), (2, 1), (2, 2), (2, 3), (3, 0), (3, 1), (3, 2), (3, 3)]\n",
      "0 3 [(0, 0), (0, 1), (0, 2), (0, 3), (1, 0), (1, 1), (1, 2), (1, 3), (2, 0), (2, 1), (2, 2), (2, 3), (3, 0), (3, 1), (3, 2), (3, 3)]\n",
      "0 2 [(1, 2), (1, 3), (2, 1), (2, 3), (3, 1), (3, 2)]\n",
      "0 1 [(3, 1)]\n",
      "1 2 []\n",
      "2 2 []\n",
      "3 2 []\n",
      "4 2 []\n",
      "5 2 []\n",
      "1 3 []\n",
      "2 3 []\n",
      "3 3 []\n",
      "4 3 []\n",
      "5 3 []\n",
      "6 3 []\n",
      "7 3 []\n",
      "8 3 []\n",
      "9 3 []\n",
      "10 3 []\n",
      "11 3 []\n",
      "12 3 []\n",
      "13 3 []\n",
      "14 3 []\n",
      "15 3 []\n",
      "None\n"
     ]
    }
   ],
   "source": [
    "def create_board(n):\n",
    "\tboard = []\n",
    "\tfor i in range(n):\n",
    "\t\tfor j in range(n):\n",
    "\t\t\tboard.append((i,j))\n",
    "\treturn board\n",
    "\n",
    "def queen_attack(queen, position):\n",
    "\tif queen[0] == position[0] or queen[1] == position[1]:\n",
    "\t\treturn True\n",
    "\telif (queen[0] - queen[1]) == (position[0] - position[1]):\n",
    "\t\treturn True\n",
    "\telif ((queen[0] + queen[1]) == (position[0] + position[1])):\n",
    "\t\treturn True\n",
    "\treturn False\n",
    "\n",
    "\n",
    "def check_board(queen, board, count, start):\n",
    "\tprint(queen, count, board)\n",
    "\tif count != 0 and len(board) == 0:\n",
    "\t\treturn 0\n",
    "\tif count == 0 and len(board) >= 0:\n",
    "\t\treturn 10\n",
    "\tif queen >= len(board):\n",
    "\t\treturn 0\n",
    "\n",
    "\tif start:\n",
    "\t\tfor i in range(len(board) - 1, -1, -1):\n",
    "\t\t\t# print(board[i],queen_attack(board[0], board[i]))\n",
    "\t\t\tif queen_attack(board[queen], board[i]):\n",
    "\t\t\t\tboard.remove(board[i])\n",
    "\n",
    "\t# print(board, count, queen,start)\n",
    "\t# print(board)\n",
    "\tif count != 0 and len(board) > 0:\n",
    "\t\tfor i in range(len(board)):\n",
    "\t\t\t# print(board[i],i,board)\n",
    "\t\t\tif check_board(i, board, count - 1, True) == 10:\n",
    "\t\t\t\treturn -1\n",
    "\n",
    "\n",
    "\n",
    "def start():\n",
    "\tboard = create_board(4)\n",
    "\tprint(check_board(0,board, 4, False))\n",
    "\n",
    "start()"
   ]
  },
  {
   "cell_type": "code",
   "execution_count": 52,
   "metadata": {},
   "outputs": [
    {
     "name": "stdout",
     "output_type": "stream",
     "text": [
      "0 4 [(0, 0), (0, 1), (0, 2), (0, 3), (1, 0), (1, 1), (1, 2), (1, 3), (2, 0), (2, 1), (2, 2), (2, 3), (3, 0), (3, 1), (3, 2), (3, 3)]\n",
      "0 3 [(0, 0), (0, 1), (0, 2), (0, 3), (1, 0), (1, 1), (1, 2), (1, 3), (2, 0), (2, 1), (2, 2), (2, 3), (3, 0), (3, 1), (3, 2), (3, 3)]\n",
      "0 2 [(1, 2), (1, 3), (2, 1), (2, 3), (3, 1), (3, 2)]\n",
      "0 1 [(3, 1)]\n",
      "0 0 []\n",
      "90\n"
     ]
    }
   ],
   "source": [
    "def create_board(n):\n",
    "    board = []\n",
    "    for i in range(n):\n",
    "        for j in range(n):\n",
    "            board.append((i, j))\n",
    "    return board\n",
    "\n",
    "def queen_attack(queen, position):\n",
    "    if queen[0] == position[0] or queen[1] == position[1]:\n",
    "        return True\n",
    "    elif (queen[0] - queen[1]) == (position[0] - position[1]):\n",
    "        return True\n",
    "    elif ((queen[0] + queen[1]) == (position[0] + position[1])):\n",
    "        return True\n",
    "    return False\n",
    "\n",
    "def check_board(queen, board, count, start):\n",
    "    print(queen, count, board)\n",
    "    if count != 0 and len(board) == 0:\n",
    "        return 0\n",
    "    if count == 0 and len(board) >= 0:\n",
    "        return 10\n",
    "    if queen >= len(board):\n",
    "        return 0\n",
    "\n",
    "    if start:\n",
    "        temp_board = board.copy()  # Create a copy of the board\n",
    "        for i in range(len(board) - 1, -1, -1):\n",
    "            if queen_attack(board[queen], board[i]):\n",
    "                temp_board.pop(i)\n",
    "        # if check_board(0,temp_board,count - 1, True) == 10:\n",
    "        #     return 10\n",
    "\n",
    "    if count != 0 and len(board) > 0:\n",
    "        for i in range(4):\n",
    "            temp_board = board.copy()  # Create a copy of the board\n",
    "            if check_board(i, temp_board, count - 1, True) == 10:\n",
    "                return 90\n",
    "\n",
    "def start():\n",
    "    board = create_board(4)\n",
    "    print(check_board(0, board, 4, False))\n",
    "\n",
    "start()\n"
   ]
  },
  {
   "cell_type": "code",
   "execution_count": 64,
   "metadata": {},
   "outputs": [
    {
     "ename": "IndexError",
     "evalue": "list index out of range",
     "output_type": "error",
     "traceback": [
      "\u001b[0;31m---------------------------------------------------------------------------\u001b[0m",
      "\u001b[0;31mIndexError\u001b[0m                                Traceback (most recent call last)",
      "\u001b[1;32m/home/naol/Documents/programs/ALX/alx-higher_level_programming/test.ipynb Cell 10\u001b[0m in \u001b[0;36m3\n\u001b[1;32m     <a href='vscode-notebook-cell:/home/naol/Documents/programs/ALX/alx-higher_level_programming/test.ipynb#X12sZmlsZQ%3D%3D?line=31'>32</a>\u001b[0m         \u001b[39mif\u001b[39;00m check_board(board[\u001b[39m0\u001b[39m][i],board, \u001b[39m4\u001b[39m \u001b[39m-\u001b[39m\u001b[39m1\u001b[39m) \u001b[39m==\u001b[39m \u001b[39m10\u001b[39m:\n\u001b[1;32m     <a href='vscode-notebook-cell:/home/naol/Documents/programs/ALX/alx-higher_level_programming/test.ipynb#X12sZmlsZQ%3D%3D?line=32'>33</a>\u001b[0m             \u001b[39mprint\u001b[39m(i)\n\u001b[0;32m---> <a href='vscode-notebook-cell:/home/naol/Documents/programs/ALX/alx-higher_level_programming/test.ipynb#X12sZmlsZQ%3D%3D?line=33'>34</a>\u001b[0m start()\n",
      "\u001b[1;32m/home/naol/Documents/programs/ALX/alx-higher_level_programming/test.ipynb Cell 10\u001b[0m in \u001b[0;36m3\n\u001b[1;32m     <a href='vscode-notebook-cell:/home/naol/Documents/programs/ALX/alx-higher_level_programming/test.ipynb#X12sZmlsZQ%3D%3D?line=28'>29</a>\u001b[0m board \u001b[39m=\u001b[39m create_board(\u001b[39m4\u001b[39m)\n\u001b[1;32m     <a href='vscode-notebook-cell:/home/naol/Documents/programs/ALX/alx-higher_level_programming/test.ipynb#X12sZmlsZQ%3D%3D?line=29'>30</a>\u001b[0m \u001b[39mfor\u001b[39;00m i \u001b[39min\u001b[39;00m \u001b[39mrange\u001b[39m(\u001b[39m1\u001b[39m):\n\u001b[1;32m     <a href='vscode-notebook-cell:/home/naol/Documents/programs/ALX/alx-higher_level_programming/test.ipynb#X12sZmlsZQ%3D%3D?line=30'>31</a>\u001b[0m     \u001b[39m# print(check_board(board[0][i], board, 4-1))\u001b[39;00m\n\u001b[0;32m---> <a href='vscode-notebook-cell:/home/naol/Documents/programs/ALX/alx-higher_level_programming/test.ipynb#X12sZmlsZQ%3D%3D?line=31'>32</a>\u001b[0m     \u001b[39mif\u001b[39;00m check_board(board[\u001b[39m0\u001b[39;49m][i],board, \u001b[39m4\u001b[39;49m \u001b[39m-\u001b[39;49m\u001b[39m1\u001b[39;49m) \u001b[39m==\u001b[39m \u001b[39m10\u001b[39m:\n\u001b[1;32m     <a href='vscode-notebook-cell:/home/naol/Documents/programs/ALX/alx-higher_level_programming/test.ipynb#X12sZmlsZQ%3D%3D?line=32'>33</a>\u001b[0m         \u001b[39mprint\u001b[39m(i)\n",
      "\u001b[1;32m/home/naol/Documents/programs/ALX/alx-higher_level_programming/test.ipynb Cell 10\u001b[0m in \u001b[0;36m2\n\u001b[1;32m     <a href='vscode-notebook-cell:/home/naol/Documents/programs/ALX/alx-higher_level_programming/test.ipynb#X12sZmlsZQ%3D%3D?line=20'>21</a>\u001b[0m \u001b[39mfor\u001b[39;00m i \u001b[39min\u001b[39;00m \u001b[39mrange\u001b[39m(\u001b[39mlen\u001b[39m(temp_board)):\n\u001b[1;32m     <a href='vscode-notebook-cell:/home/naol/Documents/programs/ALX/alx-higher_level_programming/test.ipynb#X12sZmlsZQ%3D%3D?line=21'>22</a>\u001b[0m     \u001b[39mfor\u001b[39;00m j \u001b[39min\u001b[39;00m \u001b[39mrange\u001b[39m(\u001b[39mlen\u001b[39m(temp_board[i])):\n\u001b[0;32m---> <a href='vscode-notebook-cell:/home/naol/Documents/programs/ALX/alx-higher_level_programming/test.ipynb#X12sZmlsZQ%3D%3D?line=22'>23</a>\u001b[0m         \u001b[39mif\u001b[39;00m queen_attack(queen, temp_board[i][j]):\n\u001b[1;32m     <a href='vscode-notebook-cell:/home/naol/Documents/programs/ALX/alx-higher_level_programming/test.ipynb#X12sZmlsZQ%3D%3D?line=23'>24</a>\u001b[0m             temp_board[i]\u001b[39m.\u001b[39mpop(j)\n\u001b[1;32m     <a href='vscode-notebook-cell:/home/naol/Documents/programs/ALX/alx-higher_level_programming/test.ipynb#X12sZmlsZQ%3D%3D?line=24'>25</a>\u001b[0m \u001b[39mprint\u001b[39m(temp_board)\n",
      "\u001b[0;31mIndexError\u001b[0m: list index out of range"
     ]
    }
   ],
   "source": [
    "def create_board(n):\n",
    "    board = []\n",
    "    for i in range(n):\n",
    "        temp = []\n",
    "        for j in range(n):\n",
    "            temp.append((i, j))\n",
    "        board.append(temp)\n",
    "    return board\n",
    "\n",
    "def queen_attack(queen, position):\n",
    "    if queen[0] == position[0] or queen[1] == position[1]:\n",
    "        return True\n",
    "    elif (queen[0] - queen[1]) == (position[0] - position[1]):\n",
    "        return True\n",
    "    elif ((queen[0] + queen[1]) == (position[0] + position[1])):\n",
    "        return True\n",
    "    return False\n",
    "\n",
    "def check_board(queen,board,count):\n",
    "    temp_board = board.copy()\n",
    "    for i in range(len(temp_board)):\n",
    "        for j in range(len(temp_board[i])):\n",
    "            if queen_attack(queen, temp_board[i][j]):\n",
    "                temp_board[i].pop(j)\n",
    "    print(temp_board)\n",
    "\n",
    "\n",
    "def  start():\n",
    "    board = create_board(4)\n",
    "    for i in range(1):\n",
    "        # print(check_board(board[0][i], board, 4-1))\n",
    "        if check_board(board[0][i],board, 4 -1) == 10:\n",
    "            print(i)\n",
    "start()"
   ]
  },
  {
   "cell_type": "code",
   "execution_count": 62,
   "metadata": {},
   "outputs": [
    {
     "data": {
      "text/plain": [
       "[[1], [3, 4]]"
      ]
     },
     "execution_count": 62,
     "metadata": {},
     "output_type": "execute_result"
    }
   ],
   "source": [
    "temp = [[1,2],[3,4]]\n",
    "temp[0].pop()\n",
    "temp"
   ]
  },
  {
   "cell_type": "code",
   "execution_count": null,
   "metadata": {},
   "outputs": [],
   "source": [
    "def start(n):\n",
    "\tcol = []\n",
    "\tneg_digo = []\n",
    "\tpos_digo = []\n",
    "\n",
    "\tboard = [True for i  in range(n ** 2)]\n",
    "\tans = []\n",
    "\n",
    "\tdef back_tacking(r):\n",
    "\t\tif r == n:\n",
    "\t\t\ttemp = board.copy()\n",
    "\t\t\tans.append(temp)\n",
    "\t\t\treturn\n",
    "\t\t\n",
    "\t\tfor c in range(n):\n",
    "\t\t\tif c in col or (c + r) in pos_digo or (c - r) in neg_digo:\n",
    "\t\t\t\tcontinue\n",
    "\n",
    "\t\t\tcol.append(c)\n",
    "\t\t\tneg_digo.append(c - r)\n",
    "\t\t\tpos_digo.append(c + r)\n",
    "\t\t\tboard[(r * n ) + c] = False\n",
    "\n",
    "\t\t\tback_tacking(r + 1)\n",
    "\n",
    "\t\t\tcol.remove(c)\n",
    "\t\t\tneg_digo.remove(c - r)\n",
    "\t\t\tpos_digo.remove(c + r)\n",
    "\t\t\tboard[(r * n) + c] = True\n",
    "\n",
    "\tback_tacking(0)\n",
    "\treturn(ans)\n",
    "\n",
    "print(start(4))\n",
    "\n",
    "# start(4)"
   ]
  },
  {
   "cell_type": "code",
   "execution_count": 142,
   "metadata": {},
   "outputs": [
    {
     "name": "stdout",
     "output_type": "stream",
     "text": [
      "[['.Q..', '...Q', 'Q...', '..Q.'], ['..Q.', 'Q...', '...Q', '.Q..']]\n"
     ]
    }
   ],
   "source": [
    "from typing import List\n",
    "\n",
    "\n",
    "class Solution:\n",
    "    def solveNQueens(self, n: int) -> List[List[str]]:\n",
    "        ans = []\n",
    "        col = []\n",
    "        nag_digo = [] # r - c\n",
    "        pos_digo = [] # r + c\n",
    "        board = [[\".\" ]* n for i in range(n)]\n",
    "\n",
    "        def back_tracking(r):\n",
    "            if r == n:\n",
    "                temp = [\"\".join(row) for row in board]\n",
    "                ans.append(temp)\n",
    "                return\n",
    "\n",
    "            for c in range(n):\n",
    "                if c in col or (c + r) in pos_digo or (c - r) in nag_digo:\n",
    "                    continue\n",
    "\n",
    "                col.append(c)\n",
    "                pos_digo.append(c + r)\n",
    "                nag_digo.append(c - r)\n",
    "                board[r][c] = \"Q\"\n",
    "\n",
    "                back_tracking(r + 1)\n",
    "\n",
    "                col.remove(c)\n",
    "                pos_digo.remove(c + r)\n",
    "                nag_digo.remove(c - r)\n",
    "                board[r][c] = \".\"\n",
    "\n",
    "        back_tracking(0)\n",
    "        print(ans)\n",
    "\n",
    "ob = Solution()\n",
    "ob.solveNQueens(4)\n"
   ]
  },
  {
   "cell_type": "code",
   "execution_count": 131,
   "metadata": {},
   "outputs": [
    {
     "data": {
      "text/plain": [
       "[['.', 'q', '.', '.'],\n",
       " ['.', 'q', '.', '.'],\n",
       " ['.', 'q', '.', '.'],\n",
       " ['.', 'q', '.', '.']]"
      ]
     },
     "execution_count": 131,
     "metadata": {},
     "output_type": "execute_result"
    }
   ],
   "source": [
    "c = [[\".\"] *4 ]* 4\n",
    "c[0][1] = \"q\"\n",
    "c"
   ]
  },
  {
   "cell_type": "code",
   "execution_count": 11,
   "metadata": {},
   "outputs": [
    {
     "data": {
      "text/plain": [
       "[[0.33, 0.67, 1.0], [1.33, 1.67, 2.0]]"
      ]
     },
     "execution_count": 11,
     "metadata": {},
     "output_type": "execute_result"
    }
   ],
   "source": [
    "l = [[1, 2, 3], [4, 5, 6]]\n",
    "\n",
    "x = [[round(i/3,2) for i in k] for k in l ]\n",
    "x"
   ]
  },
  {
   "cell_type": "code",
   "execution_count": 1,
   "metadata": {},
   "outputs": [
    {
     "name": "stdout",
     "output_type": "stream",
     "text": [
      "1\n"
     ]
    }
   ],
   "source": [
    "l = [[]]\n",
    "\n",
    "print(len(l))"
   ]
  },
  {
   "cell_type": "code",
   "execution_count": 11,
   "metadata": {},
   "outputs": [
    {
     "name": "stdout",
     "output_type": "stream",
     "text": [
      "[ 2 10 24]\n",
      "27\n"
     ]
    }
   ],
   "source": [
    "import numpy as np \n",
    "\n",
    "lis = np.array([\n",
    "\t[1,2,3],\n",
    "\t[4,5,6],\n",
    "\t[7,8,9]\n",
    "])\n",
    "lis_2 = np.array([\n",
    "\t[1,2,3],\n",
    "\t[4,5,6],\n",
    "\t[7,8,9]\n",
    "])\n",
    "print(lis[0]*lis_2[:,1])\n",
    "print(sum(lis[:,0]+lis[:,1]))"
   ]
  },
  {
   "cell_type": "code",
   "execution_count": 15,
   "metadata": {},
   "outputs": [
    {
     "name": "stdout",
     "output_type": "stream",
     "text": [
      "[[30, 36, 42], [66, 81, 96], [102, 126, 150]]\n"
     ]
    }
   ],
   "source": [
    "def multi(m_a, m_b):\n",
    "\tans = []\n",
    "\tm_a = np.array(m_a)\n",
    "\tm_b = np.array(m_b)\n",
    "\tfor i in range(len(m_a)):\n",
    "\t\ttemp_ans = []\n",
    "\t\tfor j in range(3):\n",
    "\t\t\ttemp_sum = sum(m_a[i]*m_b[:,j])\n",
    "\t\t\ttemp_ans.append(temp_sum)\n",
    "\t\tans.append(temp_ans)\n",
    "\t\n",
    "\treturn ans\n",
    "\n",
    "a = [\n",
    "\t[1,2,3],\n",
    "\t[4,5,6],\n",
    "\t[7,8,9]\n",
    "]\n",
    "print(multi(a,a))"
   ]
  },
  {
   "cell_type": "code",
   "execution_count": null,
   "metadata": {},
   "outputs": [],
   "source": []
  }
 ],
 "metadata": {
  "kernelspec": {
   "display_name": "Python 3",
   "language": "python",
   "name": "python3"
  },
  "language_info": {
   "codemirror_mode": {
    "name": "ipython",
    "version": 3
   },
   "file_extension": ".py",
   "mimetype": "text/x-python",
   "name": "python",
   "nbconvert_exporter": "python",
   "pygments_lexer": "ipython3",
   "version": "3.11.4"
  },
  "orig_nbformat": 4
 },
 "nbformat": 4,
 "nbformat_minor": 2
}
